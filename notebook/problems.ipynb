{
    "cells": [
        {
            "cell_type": "markdown",
            "id": "ac622319",
            "metadata": {},
            "source": [
                "# Descriptive statistics problems"
            ]
        },
        {
            "cell_type": "markdown",
            "id": "aa8993e4",
            "metadata": {},
            "source": [
                "### Exercise 1"
            ]
        },
        {
            "cell_type": "markdown",
            "id": "5e0ab0d5",
            "metadata": {},
            "source": [
                "We will use Numpy to obtain information to describe statistically.\n",
                "\n",
                "- Generate an array of 100 elements following a normal distribution.\n",
                "- Generate an array of 100 elements following a chi-square distribution with 3 degrees of freedom.\n",
                "- Calculate the main metrics and statistical measures that best describe the two vectors."
            ]
        },
        {
            "cell_type": "code",
            "execution_count": 105,
            "id": "34720ab6",
            "metadata": {},
            "outputs": [
                {
                    "name": "stdout",
                    "output_type": "stream",
                    "text": [
                        "Mean is: 50.69\n",
                        "Median is: 53.5\n",
                        "Mode is: 62\n",
                        "Range is: 93\n",
                        "Deviation is: 28.81\n",
                        "Variance is: 830.09\n",
                        " \n",
                        "Mean is: 2.887134018258909\n",
                        "Median is: 2.537931718190033\n",
                        "Mode is: 3.1571317772970744\n",
                        "Range is: 12.566258583681838\n",
                        "Deviation is: 2.11\n",
                        "Variance is: 4.44\n",
                        " \n"
                    ]
                }
            ],
            "source": [
                "import numpy as np\n",
                "import statistics as st\n",
                "np.random.seed(42)\n",
                "\n",
                "normal = np.random.randint(1,100,100)\n",
                "chi = np.random.chisquare(3,100)\n",
                "\n",
                "def metricas(array):\n",
                "    print(\"Mean is: \"+str(array.mean()))\n",
                "    print(\"Median is: \"+str(np.median(array)))\n",
                "    print(\"Mode is: \"+str(st.mode(array)))\n",
                "    print(\"Range is: \"+str(max(array)-min(array)))\n",
                "    print(\"Deviation is: \"+str(round(np.std(array),2)))\n",
                "    print(\"Variance is: \"+str(round(array.var(),2)))\n",
                "    print(\" \")\n",
                "\n",
                "metricas(normal)\n",
                "metricas(chi)"
            ]
        },
        {
            "cell_type": "markdown",
            "id": "46c70c3d",
            "metadata": {},
            "source": [
                "### Exercise 2\n",
                "\n",
                "Write a Python program to calculate the standard deviation of the following data:\n",
                "\n",
                "```py\n",
                "data = [4, 2, 5, 8, 6]\n",
                "```"
            ]
        },
        {
            "cell_type": "code",
            "execution_count": 103,
            "id": "d590308e",
            "metadata": {},
            "outputs": [
                {
                    "name": "stdout",
                    "output_type": "stream",
                    "text": [
                        "USING FOR\n",
                        "The standard deviation of the array is: 2.24\n"
                    ]
                }
            ],
            "source": [
                "data = [4,2,5,8,6]\n",
                "# OPCION 1RA : USANDO UNA FUNCIÓN CON LOOP (for)\n",
                "def std(array):\n",
                "    result = 0\n",
                "    for x in array:\n",
                "        result += (x-sum(array)/len(array))**2\n",
                "    print(\"The standard deviation of the array is: \" + \n",
                "          str(round(((result / 4)**0.5),2)))\n",
                "print(\"USING FOR\")\n",
                "std(data)"
            ]
        },
        {
            "cell_type": "code",
            "execution_count": 104,
            "id": "d7703b4c",
            "metadata": {},
            "outputs": [
                {
                    "name": "stdout",
                    "output_type": "stream",
                    "text": [
                        "USING LIST COMPREHENSION\n",
                        "The standard deviation of the array is: 2.24\n"
                    ]
                }
            ],
            "source": [
                "# OPCION 2DA: USANDO LIST COMPREHENSION \n",
                "result = (sum([(x-sum(data)/len(data))**2 for x in data]) / 4)**.5\n",
                "print(\"USING LIST COMPREHENSION\")\n",
                "print((\"The standard deviation of the array is: \" + \n",
                "          str(round(result,2))))"
            ]
        }
    ],
    "metadata": {
        "interpreter": {
            "hash": "9248718ffe6ce6938b217e69dbcc175ea21f4c6b28a317e96c05334edae734bb"
        },
        "kernelspec": {
            "display_name": "Python 3.9.12 ('ML-BOOTCAMP')",
            "language": "python",
            "name": "python3"
        },
        "language_info": {
            "codemirror_mode": {
                "name": "ipython",
                "version": 3
            },
            "file_extension": ".py",
            "mimetype": "text/x-python",
            "name": "python",
            "nbconvert_exporter": "python",
            "pygments_lexer": "ipython3",
            "version": "3.11.4"
        }
    },
    "nbformat": 4,
    "nbformat_minor": 5
}
